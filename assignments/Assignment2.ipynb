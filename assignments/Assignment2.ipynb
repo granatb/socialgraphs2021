{
 "cells": [
  {
   "cell_type": "markdown",
   "metadata": {},
   "source": [
    "# Formalia:\n",
    "\n",
    "Please read the [assignment overview page](https://github.com/SocialComplexityLab/socialgraphs2021/wiki/Assignments) carefully before proceeding. This page contains information about formatting (including formats etc.), group sizes, and many other aspects of handing in the assignment. \n",
    "\n",
    "_If you fail to follow these simple instructions, it will negatively impact your grade!_\n",
    "\n",
    "**Due date and time**: The assignment is due on Tuesday November the 2nd, 2021 at 23:59. Hand in your IPython notebook file (with extension `.ipynb`) via http://peergrade.io/"
   ]
  },
  {
   "cell_type": "markdown",
   "metadata": {},
   "source": [
    "### Overview\n",
    "\n",
    "This year's Assignment 2 is all about analyzing the network of The Legend of Zelda: Breath of the Wild.\n",
    "\n",
    "Note that this time I'm doing the exercises slightly differently in order to clean things up a bit. The issue is that the weekly lectures/exercises include quite a few instructions and intermediate results that are not quite something you guys can meaningfully answer. \n",
    "\n",
    "Therefore, in the assignment below, I have tried to reformulate the questions from the weekly exercises into something that is (hopefully) easier to answer. *Then I also note which lectures each question comes from*; that way, you can easily go back and find additional tips & tricks on how to solve things 😇\n",
    "\n",
    "\n",
    "----"
   ]
  },
  {
   "cell_type": "markdown",
   "metadata": {},
   "source": [
    "# Part 0: Building the network \n",
    "\n",
    "To create our network, we downloaded the Zelda Wiki pages for all characters in BotW (during Week 4) and linked them via the hyperlinks connecting pages to each other. To achieve this goal we have used regular expressions!\n",
    "\n",
    "> * Explain the strategy you have used to extract the hyperlinks from the Wiki-pages, assuming that you have already collected the pages with the Zelda API.\n",
    "> * Show the regular expression(s) you have built and explain in details how it works."
   ]
  },
  {
   "cell_type": "markdown",
   "metadata": {},
   "source": [
    "# Part 1: Network visualization and basic stats\n",
    "\n",
    "Visualize the network (from lecture 5) and calculate stats (from lecture 4 and 5). For this exercise, we assume that you've already generated the BotW network and extracted the giant connected component. Use the GCC to report the results.\n",
    "\n",
    "_Exercise 1a_: Stats (see lecture 4 and 5 for more hints)\n",
    "\n",
    "> * What is the number of nodes in the network? \n",
    "> * What is the number of links?\n",
    "> * Who is the top connected character in BotW? (Report results for the in-degrees and out-degrees). Comment on your findings. Is this what you would have expected?\n",
    "> * Who are the top 5 most connected allies (again in terms of in/out-degree)? \n",
    "> * Who are the top 5 most connected enemies -- bosses included -- (again in terms of in/out-degree)?\n",
    "> * Plot the in- and out-degree distributions. \n",
    ">   * What do you observe? \n",
    ">   * Can you explain why the in-degree distribution is different from the out-degree distribution?\n",
    "> * Find the exponent of the degree distribution (by using the `powerlaw` package) for the in- and out-degree distribution. What does it say about our network?\n",
    "> * Compare the degree distribution of the undirected graph to a *random network* with the same number of nodes and probability of connection *p*. Comment your results.\n",
    "\n",
    "_Exercise 1b_: Visualization (see lecture 5 for more hints)\n",
    "\n",
    "> * Create a nice visualization of the total (undirected) network:\n",
    ">   * Color nodes according to the role;\n",
    ">   * Scale node-size according to degree;\n",
    ">   * Get node positions based on the Force Atlas 2 algorithm;\n",
    ">   * Whatever else you feel like that would make the visualization nicer.\n",
    "> * Describe the structure you observe. Can you identify nodes with a privileged position in the network? Do you observe chains of connected nodes? Do you see any interesting group of nodes (can you guess who's involved)?"
   ]
  },
  {
   "cell_type": "markdown",
   "metadata": {},
   "source": [
    "# Part 2: Word-clouds\n",
    "\n",
    "Create your own version of the word-clouds (from lecture 7). For this exercise we assume you know how to download and clean text from the ZeldaWiki pages.\n",
    "\n",
    "Here's what you need to do:\n",
    "> * Create a word-cloud for each race of the [five champions of Hyrule](https://zelda.fandom.com/wiki/Champions) (i.e. Hylian, Zora, Goron, Gerudo, and Rito) according to either TC-IDF. Feel free to make it as fancy as you like. Explain your process and comment on your results."
   ]
  },
  {
   "cell_type": "markdown",
   "metadata": {},
   "source": [
    "# Part 3: Communities and TF-IDF\n",
    "\n",
    "Find communities and compute their associated TF-IDF (from lecture 7 and 8).\n",
    "\n",
    "Here's what you need to do:\n",
    "> * Explain the Louvain algorithm and how it finds communities in a newtork.\n",
    "> * Explain how you chose to identify the communities: Which algorithm did you use? (if you did not use the Louvain method, explain how the method you have used works) \n",
    "> * Comment your results:\n",
    ">   * How many communities did you find in total?\n",
    ">   * Compute the value of modularity with the partition created by the algorithm.\n",
    ">   * Plot the distribution of community sizes.\n",
    "> * For the 5 largest communities, create TF-IDF based rankings of words in each community. \n",
    ">   * There are many ways to calculate TF-IDF, explain how you've done it and motivate your choices.\n",
    ">   * List the 5 top words for each community according to TF.\n",
    ">   * List the 5 top words for each community accourding to TF-IDF. Are these words more descriptive of the community than just the TF? Justify your answer."
   ]
  },
  {
   "cell_type": "markdown",
   "metadata": {},
   "source": [
    "# Part 4: Sentiment of communities\n",
    "\n",
    "Analyze the sentiment of the communities (lecture 8). Here, we assume that you've successfully identified communities.  More tips & tricks can be found, if you take a look at Lecture 8's exercises.\n",
    "\n",
    "A couple of additional instructions you will need below:\n",
    "* We name each community by its three most connected characters.\n",
    "* Average the average sentiment of the nodes in each community to find a community level sentiment.\n",
    "\n",
    "Here's what you need to do (repeat these steps and report your results for **both LabMT and VADER**):\n",
    "> * Calculate and store sentiment for every character\n",
    "> * Create a histogram of all character's associated sentiments.\n",
    "> * What are the 10 characters with happiest and saddest pages?\n",
    "\n",
    "Now, compute the sentiment of communities: \n",
    "> * What are the three happiest communities according to the LabMT wordlist approach? What about VADER?\n",
    "> * What are the three saddest communities according to the LabMT wordlist approach? What about VADER?\n",
    "> * Create a bar plot showing the average sentiment of each community and add error-bars using the standard deviation for both methods. \n",
    "> * Explain the difference between the two methods and compare the results you have obtained above.\n",
    "> * What is the advantage of using a rule-based method over the dictionary-based approach? "
   ]
  }
 ],
 "metadata": {
  "anaconda-cloud": {},
  "kernelspec": {
   "display_name": "Python 3",
   "language": "python",
   "name": "python3"
  },
  "language_info": {
   "codemirror_mode": {
    "name": "ipython",
    "version": 3
   },
   "file_extension": ".py",
   "mimetype": "text/x-python",
   "name": "python",
   "nbconvert_exporter": "python",
   "pygments_lexer": "ipython3",
   "version": "3.7.7"
  }
 },
 "nbformat": 4,
 "nbformat_minor": 1
}
